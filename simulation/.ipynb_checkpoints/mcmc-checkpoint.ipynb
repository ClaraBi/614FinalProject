{
 "cells": [
  {
   "cell_type": "code",
   "execution_count": 4,
   "metadata": {},
   "outputs": [],
   "source": [
    "import numpy as np\n",
    "from pymc3 import * \n",
    "from sklearn.metrics import mean_absolute_error\n",
    "import matplotlib.pyplot as plt\n",
    "%matplotlib inline"
   ]
  },
  {
   "cell_type": "code",
   "execution_count": 5,
   "metadata": {},
   "outputs": [],
   "source": [
    "#The following cell creates the two models with noise based on a target. One should note that the first model has more noise than the second model so one would expect model 1 to perform worse than model 2\n",
    "\n",
    "\n",
    "size = 200\n",
    "true_intercept = 1\n",
    "true_slope = 2\n",
    "x = np.linspace(0, 1, size)\n",
    "# y = a + b*x\n",
    "true_regression_line = true_intercept + true_slope * x\n",
    "# add noise\n",
    "model1 = true_regression_line + np.random.normal(scale=.5, size=size) #Noisy\n",
    "model2 = true_regression_line + np.random.normal(scale=.2, size=size) #Less Noisy"
   ]
  },
  {
   "cell_type": "code",
   "execution_count": 6,
   "metadata": {},
   "outputs": [
    {
     "name": "stdout",
     "output_type": "stream",
     "text": [
      "0.3854364032632698\n",
      "0.15433572310989543\n"
     ]
    }
   ],
   "source": [
    "# Let us see what the MAE looks like\n",
    "print(mean_absolute_error(true_regression_line,model1))\n",
    "print(mean_absolute_error(true_regression_line,model2))\n"
   ]
  },
  {
   "cell_type": "code",
   "execution_count": 7,
   "metadata": {},
   "outputs": [
    {
     "name": "stdout",
     "output_type": "stream",
     "text": [
      "0.20716890052028014\n"
     ]
    }
   ],
   "source": [
    "# As expected the noisier model does worse\n",
    "# Now let us look at the straight average\n",
    "\n",
    "print(mean_absolute_error(true_regression_line,model1*.5+model2*.5))\n",
    "\n"
   ]
  },
  {
   "cell_type": "code",
   "execution_count": 15,
   "metadata": {},
   "outputs": [
    {
     "ename": "IndentationError",
     "evalue": "expected an indented block (<ipython-input-15-8a5029c38dfe>, line 9)",
     "output_type": "error",
     "traceback": [
      "\u001b[1;36m  File \u001b[1;32m\"<ipython-input-15-8a5029c38dfe>\"\u001b[1;36m, line \u001b[1;32m9\u001b[0m\n\u001b[1;33m    glm('y ~ x1 + x2', data)\u001b[0m\n\u001b[1;37m    ^\u001b[0m\n\u001b[1;31mIndentationError\u001b[0m\u001b[1;31m:\u001b[0m expected an indented block\n"
     ]
    }
   ],
   "source": [
    "# As one can see this isn't as good as our top model\n",
    "# Now comes the cool part. We are going to use MCMC to draw samples from our data and get stats on how we can obtain a model that gets the best out of our raw models.\n",
    "\n",
    "# Important: Please look at the documentation here (https://pymc-devs.github.io/pymc3/index.html) for details\n",
    "data = dict(x1=model1, x2=model2, y=true_regression_line)\n",
    "with Model() as model:\n",
    "    # specify glm and pass in data. The resulting linear model, its likelihood and \n",
    "    # and all its parameters are automatically added to our model.\n",
    "glm('y ~ x1 + x2', data)\n",
    "pymc3.glm.GLM('y ~ x1 + x2', data)\n",
    "    pm.glm.GLM.from_formula('y ~ x1 + x2', data)\n",
    "    step = NUTS() # Instantiate MCMC sampling algorithm\n",
    "    trace = sample(2000, step, progressbar=False)"
   ]
  }
 ],
 "metadata": {
  "kernelspec": {
   "display_name": "Python 3",
   "language": "python",
   "name": "python3"
  },
  "language_info": {
   "codemirror_mode": {
    "name": "ipython",
    "version": 3
   },
   "file_extension": ".py",
   "mimetype": "text/x-python",
   "name": "python",
   "nbconvert_exporter": "python",
   "pygments_lexer": "ipython3",
   "version": "3.8.5"
  }
 },
 "nbformat": 4,
 "nbformat_minor": 4
}
